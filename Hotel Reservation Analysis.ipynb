{
 "cells": [
  {
   "cell_type": "code",
   "execution_count": 40,
   "id": "88955759",
   "metadata": {},
   "outputs": [],
   "source": [
    "import pandas as pd\n",
    "import numpy as np\n",
    "import matplotlib.pyplot as plt\n",
    "import seaborn as sns"
   ]
  },
  {
   "cell_type": "code",
   "execution_count": 41,
   "id": "27756fca",
   "metadata": {},
   "outputs": [],
   "source": [
    "df=pd.read_excel(\"Hospitality.xlsx\")"
   ]
  },
  {
   "cell_type": "code",
   "execution_count": 42,
   "id": "eb6661dc",
   "metadata": {},
   "outputs": [
    {
     "data": {
      "text/plain": [
       "(50000, 14)"
      ]
     },
     "execution_count": 42,
     "metadata": {},
     "output_type": "execute_result"
    }
   ],
   "source": [
    "df.shape"
   ]
  },
  {
   "cell_type": "code",
   "execution_count": 43,
   "id": "3ee0a2b4",
   "metadata": {},
   "outputs": [
    {
     "data": {
      "text/html": [
       "<div>\n",
       "<style scoped>\n",
       "    .dataframe tbody tr th:only-of-type {\n",
       "        vertical-align: middle;\n",
       "    }\n",
       "\n",
       "    .dataframe tbody tr th {\n",
       "        vertical-align: top;\n",
       "    }\n",
       "\n",
       "    .dataframe thead th {\n",
       "        text-align: right;\n",
       "    }\n",
       "</style>\n",
       "<table border=\"1\" class=\"dataframe\">\n",
       "  <thead>\n",
       "    <tr style=\"text-align: right;\">\n",
       "      <th></th>\n",
       "      <th>Avg Room Rate</th>\n",
       "      <th>reservation_id</th>\n",
       "      <th>check_in_date</th>\n",
       "      <th>stay_duration</th>\n",
       "      <th>adults</th>\n",
       "      <th>children</th>\n",
       "      <th>room_type</th>\n",
       "      <th>special_requests_flag</th>\n",
       "      <th>booking_channel</th>\n",
       "      <th>reservation_status</th>\n",
       "      <th>advanced_booking</th>\n",
       "      <th>Property</th>\n",
       "      <th>Date</th>\n",
       "      <th>Rate Type</th>\n",
       "    </tr>\n",
       "  </thead>\n",
       "  <tbody>\n",
       "    <tr>\n",
       "      <th>0</th>\n",
       "      <td>71.10</td>\n",
       "      <td>779087-Y5-9824-SA</td>\n",
       "      <td>4/15/2020</td>\n",
       "      <td>13</td>\n",
       "      <td>3</td>\n",
       "      <td>4</td>\n",
       "      <td>Single</td>\n",
       "      <td>Yes</td>\n",
       "      <td>Call Center</td>\n",
       "      <td>Completed</td>\n",
       "      <td>Yes</td>\n",
       "      <td>The Chord</td>\n",
       "      <td>4/15/2020</td>\n",
       "      <td>Weekday</td>\n",
       "    </tr>\n",
       "    <tr>\n",
       "      <th>1</th>\n",
       "      <td>71.10</td>\n",
       "      <td>984023-QO-5015-YG</td>\n",
       "      <td>2020-12-06 00:00:00</td>\n",
       "      <td>3</td>\n",
       "      <td>3</td>\n",
       "      <td>3</td>\n",
       "      <td>Single</td>\n",
       "      <td>No</td>\n",
       "      <td>Travel Agent</td>\n",
       "      <td>Completed</td>\n",
       "      <td>Yes</td>\n",
       "      <td>The Chord</td>\n",
       "      <td>2020-12-06 00:00:00</td>\n",
       "      <td>Weekday</td>\n",
       "    </tr>\n",
       "    <tr>\n",
       "      <th>2</th>\n",
       "      <td>172.38</td>\n",
       "      <td>518066-UQ-2315-FK</td>\n",
       "      <td>2/25/2020</td>\n",
       "      <td>11</td>\n",
       "      <td>4</td>\n",
       "      <td>2</td>\n",
       "      <td>Queen</td>\n",
       "      <td>No</td>\n",
       "      <td>Call Center</td>\n",
       "      <td>Completed</td>\n",
       "      <td>Yes</td>\n",
       "      <td>The Sankey</td>\n",
       "      <td>2/25/2020</td>\n",
       "      <td>Weekday</td>\n",
       "    </tr>\n",
       "    <tr>\n",
       "      <th>3</th>\n",
       "      <td>172.38</td>\n",
       "      <td>130339-H9-2116-KE</td>\n",
       "      <td>9/15/2020</td>\n",
       "      <td>11</td>\n",
       "      <td>4</td>\n",
       "      <td>1</td>\n",
       "      <td>Queen</td>\n",
       "      <td>No</td>\n",
       "      <td>Website</td>\n",
       "      <td>No-Show</td>\n",
       "      <td>Yes</td>\n",
       "      <td>The Sankey</td>\n",
       "      <td>9/15/2020</td>\n",
       "      <td>Weekday</td>\n",
       "    </tr>\n",
       "    <tr>\n",
       "      <th>4</th>\n",
       "      <td>199.00</td>\n",
       "      <td>961051-40-0956-EO</td>\n",
       "      <td>2020-05-01 00:00:00</td>\n",
       "      <td>14</td>\n",
       "      <td>2</td>\n",
       "      <td>4</td>\n",
       "      <td>Double</td>\n",
       "      <td>Yes</td>\n",
       "      <td>Walk-in</td>\n",
       "      <td>Completed</td>\n",
       "      <td>No</td>\n",
       "      <td>The Sankey</td>\n",
       "      <td>2020-05-01 00:00:00</td>\n",
       "      <td>Weekend</td>\n",
       "    </tr>\n",
       "  </tbody>\n",
       "</table>\n",
       "</div>"
      ],
      "text/plain": [
       "   Avg Room Rate     reservation_id        check_in_date  stay_duration  \\\n",
       "0          71.10  779087-Y5-9824-SA            4/15/2020             13   \n",
       "1          71.10  984023-QO-5015-YG  2020-12-06 00:00:00              3   \n",
       "2         172.38  518066-UQ-2315-FK            2/25/2020             11   \n",
       "3         172.38  130339-H9-2116-KE            9/15/2020             11   \n",
       "4         199.00  961051-40-0956-EO  2020-05-01 00:00:00             14   \n",
       "\n",
       "   adults  children room_type special_requests_flag booking_channel  \\\n",
       "0       3         4    Single                   Yes     Call Center   \n",
       "1       3         3    Single                    No    Travel Agent   \n",
       "2       4         2     Queen                    No     Call Center   \n",
       "3       4         1     Queen                    No         Website   \n",
       "4       2         4    Double                   Yes         Walk-in   \n",
       "\n",
       "  reservation_status advanced_booking    Property                 Date  \\\n",
       "0          Completed              Yes   The Chord            4/15/2020   \n",
       "1          Completed              Yes   The Chord  2020-12-06 00:00:00   \n",
       "2          Completed              Yes  The Sankey            2/25/2020   \n",
       "3            No-Show              Yes  The Sankey            9/15/2020   \n",
       "4          Completed               No  The Sankey  2020-05-01 00:00:00   \n",
       "\n",
       "  Rate Type  \n",
       "0   Weekday  \n",
       "1   Weekday  \n",
       "2   Weekday  \n",
       "3   Weekday  \n",
       "4   Weekend  "
      ]
     },
     "execution_count": 43,
     "metadata": {},
     "output_type": "execute_result"
    }
   ],
   "source": [
    "df.head()"
   ]
  },
  {
   "cell_type": "code",
   "execution_count": 44,
   "id": "6c65e946",
   "metadata": {},
   "outputs": [
    {
     "data": {
      "text/plain": [
       "count    50000.000000\n",
       "mean       147.147144\n",
       "std         48.316584\n",
       "min         71.100000\n",
       "25%        103.950000\n",
       "50%        152.100000\n",
       "75%        177.450000\n",
       "max        288.550000\n",
       "Name: Avg Room Rate, dtype: float64"
      ]
     },
     "execution_count": 44,
     "metadata": {},
     "output_type": "execute_result"
    }
   ],
   "source": [
    "df[\"Avg Room Rate\"].describe()"
   ]
  },
  {
   "cell_type": "code",
   "execution_count": 39,
   "id": "4c9a92f6",
   "metadata": {},
   "outputs": [
    {
     "data": {
      "text/plain": [
       "Avg Room Rate            0\n",
       "reservation_id           0\n",
       "check_in_date            0\n",
       "stay_duration            0\n",
       "adults                   0\n",
       "children                 0\n",
       "room_type                0\n",
       "special_requests_flag    0\n",
       "booking_channel          0\n",
       "reservation_status       0\n",
       "advanced_booking         0\n",
       "Property                 0\n",
       "Date                     0\n",
       "Rate Type                0\n",
       "dtype: int64"
      ]
     },
     "execution_count": 39,
     "metadata": {},
     "output_type": "execute_result"
    }
   ],
   "source": [
    "df.isnull().sum()"
   ]
  },
  {
   "cell_type": "markdown",
   "id": "22de0df8",
   "metadata": {},
   "source": [
    "# Room Type Analysis"
   ]
  },
  {
   "cell_type": "code",
   "execution_count": 7,
   "id": "4fe44790",
   "metadata": {},
   "outputs": [
    {
     "data": {
      "text/plain": [
       "Double             12936\n",
       "Single             10764\n",
       "Queen               8872\n",
       "Suite               6623\n",
       "King                6565\n",
       "Executive Suite     4240\n",
       "Name: room_type, dtype: int64"
      ]
     },
     "execution_count": 7,
     "metadata": {},
     "output_type": "execute_result"
    }
   ],
   "source": [
    "df[\"room_type\"].value_counts()"
   ]
  },
  {
   "cell_type": "code",
   "execution_count": 8,
   "id": "18a9312f",
   "metadata": {},
   "outputs": [
    {
     "data": {
      "text/plain": [
       "Text(0.5, 1.0, 'Room type based Reservation')"
      ]
     },
     "execution_count": 8,
     "metadata": {},
     "output_type": "execute_result"
    },
    {
     "data": {
      "image/png": "[encoded data removed]",
      "text/plain": [
       "<Figure size 640x480 with 1 Axes>"
      ]
     },
     "metadata": {},
     "output_type": "display_data"
    }
   ],
   "source": [
    "sns.countplot(x=\"room_type\",y=None,data=df)\n",
    "plt.title(\"Room type based Reservation\")"
   ]
  },
  {
   "cell_type": "markdown",
   "id": "66402504",
   "metadata": {},
   "source": [
    "# Booking Channel Insights"
   ]
  },
  {
   "cell_type": "code",
   "execution_count": 9,
   "id": "30981ac2",
   "metadata": {},
   "outputs": [
    {
     "data": {
      "text/plain": [
       "Phone App       15391\n",
       "Travel Agent    11574\n",
       "Website         11532\n",
       "Call Center      7700\n",
       "Walk-in          3803\n",
       "Name: booking_channel, dtype: int64"
      ]
     },
     "execution_count": 9,
     "metadata": {},
     "output_type": "execute_result"
    }
   ],
   "source": [
    "df[\"booking_channel\"].value_counts()"
   ]
  },
  {
   "cell_type": "code",
   "execution_count": 10,
   "id": "4cb043ac",
   "metadata": {},
   "outputs": [],
   "source": [
    "booking_status=df[df[\"reservation_status\"]==\"Completed\"].groupby(\"booking_channel\").size().reset_index().rename(columns={0:\"Total_reservation\"})"
   ]
  },
  {
   "cell_type": "code",
   "execution_count": 11,
   "id": "00c85c75",
   "metadata": {},
   "outputs": [
    {
     "name": "stdout",
     "output_type": "stream",
     "text": [
      "  booking_channel  Total_reservation\n",
      "0     Call Center               6920\n",
      "1       Phone App              13848\n",
      "2    Travel Agent              10488\n",
      "3         Walk-in               3400\n",
      "4         Website              10379\n"
     ]
    }
   ],
   "source": [
    "print(booking_status)"
   ]
  },
  {
   "cell_type": "code",
   "execution_count": 12,
   "id": "df97792c",
   "metadata": {},
   "outputs": [
    {
     "data": {
      "text/plain": [
       "<Axes: xlabel='booking_channel', ylabel='Total_reservation'>"
      ]
     },
     "execution_count": 12,
     "metadata": {},
     "output_type": "execute_result"
    },
    {
     "data": {
      "image/png": "[encoded data removed]",
      "text/plain": [
       "<Figure size 640x480 with 1 Axes>"
      ]
     },
     "metadata": {},
     "output_type": "display_data"
    }
   ],
   "source": [
    "#Based on 'Completed' reservation\n",
    "sns.barplot(x=\"booking_channel\",y=\"Total_reservation\",data=booking_status)"
   ]
  },
  {
   "cell_type": "markdown",
   "id": "1ba42d14",
   "metadata": {},
   "source": [
    "Observation:The most effective booking channel is Phone App &\n",
    "            The least effective booking channel is Walk-in "
   ]
  },
  {
   "cell_type": "markdown",
   "id": "7a845c9f",
   "metadata": {},
   "source": [
    "# Reservation Status Analysis"
   ]
  },
  {
   "cell_type": "code",
   "execution_count": 13,
   "id": "e0cec069",
   "metadata": {},
   "outputs": [
    {
     "data": {
      "text/plain": [
       "Completed    45035\n",
       "No-Show       3550\n",
       "Extended       953\n",
       "Reduced        462\n",
       "Name: reservation_status, dtype: int64"
      ]
     },
     "execution_count": 13,
     "metadata": {},
     "output_type": "execute_result"
    }
   ],
   "source": [
    "df[\"reservation_status\"].value_counts()"
   ]
  },
  {
   "cell_type": "code",
   "execution_count": 14,
   "id": "dcb63b00",
   "metadata": {},
   "outputs": [],
   "source": [
    "values=df[\"reservation_status\"].value_counts().values\n",
    "name=df[\"reservation_status\"].value_counts().index"
   ]
  },
  {
   "cell_type": "code",
   "execution_count": 45,
   "id": "1a1d564d",
   "metadata": {},
   "outputs": [
    {
     "data": {
      "image/png": "[encoded data removed]",
      "text/plain": [
       "<Figure size 640x480 with 1 Axes>"
      ]
     },
     "metadata": {},
     "output_type": "display_data"
    }
   ],
   "source": [
    "plt.pie(values,labels=name,autopct=\"%1.2f%%\")\n",
    "plt.show()"
   ]
  },
  {
   "cell_type": "markdown",
   "id": "896d2248",
   "metadata": {},
   "source": [
    "# Rate Type Comparison"
   ]
  },
  {
   "cell_type": "code",
   "execution_count": 16,
   "id": "996905b8",
   "metadata": {},
   "outputs": [
    {
     "data": {
      "text/plain": [
       "Rate Type\n",
       "Weekday    142.031001\n",
       "Name: Avg Room Rate, dtype: float64"
      ]
     },
     "execution_count": 16,
     "metadata": {},
     "output_type": "execute_result"
    }
   ],
   "source": [
    "df[df[\"Rate Type\"]==\"Weekday\"].groupby(\"Rate Type\")[\"Avg Room Rate\"].mean()"
   ]
  },
  {
   "cell_type": "code",
   "execution_count": 17,
   "id": "f3b26de9",
   "metadata": {},
   "outputs": [
    {
     "data": {
      "text/plain": [
       "Rate Type\n",
       "Weekend    159.810204\n",
       "Name: Avg Room Rate, dtype: float64"
      ]
     },
     "execution_count": 17,
     "metadata": {},
     "output_type": "execute_result"
    }
   ],
   "source": [
    "df[df[\"Rate Type\"]==\"Weekend\"].groupby(\"Rate Type\")[\"Avg Room Rate\"].mean()"
   ]
  },
  {
   "cell_type": "markdown",
   "id": "ff7b8f23",
   "metadata": {},
   "source": [
    "Observation:There is a significant disparity between room rates on weekdays and weekends, with the average room rate being notably higher during weekends compared to weekdays."
   ]
  },
  {
   "cell_type": "markdown",
   "id": "5c067736",
   "metadata": {},
   "source": [
    "# Property Performance"
   ]
  },
  {
   "cell_type": "code",
   "execution_count": 18,
   "id": "e180255b",
   "metadata": {},
   "outputs": [
    {
     "data": {
      "text/html": [
       "<div>\n",
       "<style scoped>\n",
       "    .dataframe tbody tr th:only-of-type {\n",
       "        vertical-align: middle;\n",
       "    }\n",
       "\n",
       "    .dataframe tbody tr th {\n",
       "        vertical-align: top;\n",
       "    }\n",
       "\n",
       "    .dataframe thead th {\n",
       "        text-align: right;\n",
       "    }\n",
       "</style>\n",
       "<table border=\"1\" class=\"dataframe\">\n",
       "  <thead>\n",
       "    <tr style=\"text-align: right;\">\n",
       "      <th></th>\n",
       "      <th>Property</th>\n",
       "      <th>reservation_status</th>\n",
       "      <th>0</th>\n",
       "    </tr>\n",
       "  </thead>\n",
       "  <tbody>\n",
       "    <tr>\n",
       "      <th>0</th>\n",
       "      <td>The Chord</td>\n",
       "      <td>Completed</td>\n",
       "      <td>8039</td>\n",
       "    </tr>\n",
       "    <tr>\n",
       "      <th>1</th>\n",
       "      <td>The Chord</td>\n",
       "      <td>Extended</td>\n",
       "      <td>165</td>\n",
       "    </tr>\n",
       "    <tr>\n",
       "      <th>2</th>\n",
       "      <td>The Chord</td>\n",
       "      <td>No-Show</td>\n",
       "      <td>646</td>\n",
       "    </tr>\n",
       "    <tr>\n",
       "      <th>3</th>\n",
       "      <td>The Chord</td>\n",
       "      <td>Reduced</td>\n",
       "      <td>84</td>\n",
       "    </tr>\n",
       "    <tr>\n",
       "      <th>4</th>\n",
       "      <td>The Marimekko</td>\n",
       "      <td>Completed</td>\n",
       "      <td>12298</td>\n",
       "    </tr>\n",
       "    <tr>\n",
       "      <th>5</th>\n",
       "      <td>The Marimekko</td>\n",
       "      <td>Extended</td>\n",
       "      <td>246</td>\n",
       "    </tr>\n",
       "    <tr>\n",
       "      <th>6</th>\n",
       "      <td>The Marimekko</td>\n",
       "      <td>No-Show</td>\n",
       "      <td>983</td>\n",
       "    </tr>\n",
       "    <tr>\n",
       "      <th>7</th>\n",
       "      <td>The Marimekko</td>\n",
       "      <td>Reduced</td>\n",
       "      <td>139</td>\n",
       "    </tr>\n",
       "    <tr>\n",
       "      <th>8</th>\n",
       "      <td>The Sankey</td>\n",
       "      <td>Completed</td>\n",
       "      <td>24698</td>\n",
       "    </tr>\n",
       "    <tr>\n",
       "      <th>9</th>\n",
       "      <td>The Sankey</td>\n",
       "      <td>Extended</td>\n",
       "      <td>542</td>\n",
       "    </tr>\n",
       "    <tr>\n",
       "      <th>10</th>\n",
       "      <td>The Sankey</td>\n",
       "      <td>No-Show</td>\n",
       "      <td>1921</td>\n",
       "    </tr>\n",
       "    <tr>\n",
       "      <th>11</th>\n",
       "      <td>The Sankey</td>\n",
       "      <td>Reduced</td>\n",
       "      <td>239</td>\n",
       "    </tr>\n",
       "  </tbody>\n",
       "</table>\n",
       "</div>"
      ],
      "text/plain": [
       "         Property reservation_status      0\n",
       "0       The Chord          Completed   8039\n",
       "1       The Chord           Extended    165\n",
       "2       The Chord            No-Show    646\n",
       "3       The Chord            Reduced     84\n",
       "4   The Marimekko          Completed  12298\n",
       "5   The Marimekko           Extended    246\n",
       "6   The Marimekko            No-Show    983\n",
       "7   The Marimekko            Reduced    139\n",
       "8      The Sankey          Completed  24698\n",
       "9      The Sankey           Extended    542\n",
       "10     The Sankey            No-Show   1921\n",
       "11     The Sankey            Reduced    239"
      ]
     },
     "execution_count": 18,
     "metadata": {},
     "output_type": "execute_result"
    }
   ],
   "source": [
    "df[[\"Property\",\"reservation_status\"]].groupby([\"Property\",\"reservation_status\"]).size().reset_index()"
   ]
  },
  {
   "cell_type": "code",
   "execution_count": 19,
   "id": "20e9ec1f",
   "metadata": {},
   "outputs": [],
   "source": [
    "prop=df[[\"Property\",\"reservation_status\"]].groupby([\"Property\",\"reservation_status\"]).size().reset_index()"
   ]
  },
  {
   "cell_type": "code",
   "execution_count": 20,
   "id": "9064638b",
   "metadata": {},
   "outputs": [
    {
     "data": {
      "text/plain": [
       "<Axes: xlabel='Property', ylabel='0'>"
      ]
     },
     "execution_count": 20,
     "metadata": {},
     "output_type": "execute_result"
    },
    {
     "data": {
      "image/png": "[encoded data removed]",
      "text/plain": [
       "<Figure size 640x480 with 1 Axes>"
      ]
     },
     "metadata": {},
     "output_type": "display_data"
    }
   ],
   "source": [
    "sns.barplot(y=0,x=\"Property\",data=prop,hue=\"reservation_status\")"
   ]
  },
  {
   "cell_type": "code",
   "execution_count": 21,
   "id": "6d33eb36",
   "metadata": {},
   "outputs": [
    {
     "data": {
      "text/plain": [
       "Property\n",
       "The Chord    88.133999\n",
       "Name: Avg Room Rate, dtype: float64"
      ]
     },
     "execution_count": 21,
     "metadata": {},
     "output_type": "execute_result"
    }
   ],
   "source": [
    "df[df[\"Property\"]==\"The Chord\"].groupby(\"Property\")[\"Avg Room Rate\"].mean()"
   ]
  },
  {
   "cell_type": "code",
   "execution_count": 22,
   "id": "7d20d910",
   "metadata": {},
   "outputs": [
    {
     "data": {
      "text/plain": [
       "Property\n",
       "The Marimekko    110.153924\n",
       "Name: Avg Room Rate, dtype: float64"
      ]
     },
     "execution_count": 22,
     "metadata": {},
     "output_type": "execute_result"
    }
   ],
   "source": [
    "df[df[\"Property\"]==\"The Marimekko\"].groupby(\"Property\")[\"Avg Room Rate\"].mean()"
   ]
  },
  {
   "cell_type": "code",
   "execution_count": 23,
   "id": "0ae455f5",
   "metadata": {},
   "outputs": [
    {
     "data": {
      "text/plain": [
       "Property\n",
       "The Sankey    184.839581\n",
       "Name: Avg Room Rate, dtype: float64"
      ]
     },
     "execution_count": 23,
     "metadata": {},
     "output_type": "execute_result"
    }
   ],
   "source": [
    "df[df[\"Property\"]==\"The Sankey\"].groupby(\"Property\")[\"Avg Room Rate\"].mean()"
   ]
  },
  {
   "cell_type": "markdown",
   "id": "66133e42",
   "metadata": {},
   "source": [
    "Observation:The Sankey Property has the highest Avg Room rate"
   ]
  },
  {
   "cell_type": "markdown",
   "id": "53e1816f",
   "metadata": {},
   "source": [
    "# Advanced Booking Analysis"
   ]
  },
  {
   "cell_type": "code",
   "execution_count": 24,
   "id": "1dd9fac4",
   "metadata": {},
   "outputs": [
    {
     "data": {
      "text/html": [
       "<div>\n",
       "<style scoped>\n",
       "    .dataframe tbody tr th:only-of-type {\n",
       "        vertical-align: middle;\n",
       "    }\n",
       "\n",
       "    .dataframe tbody tr th {\n",
       "        vertical-align: top;\n",
       "    }\n",
       "\n",
       "    .dataframe thead th {\n",
       "        text-align: right;\n",
       "    }\n",
       "</style>\n",
       "<table border=\"1\" class=\"dataframe\">\n",
       "  <thead>\n",
       "    <tr style=\"text-align: right;\">\n",
       "      <th></th>\n",
       "      <th>reservation_status</th>\n",
       "      <th>Total</th>\n",
       "    </tr>\n",
       "  </thead>\n",
       "  <tbody>\n",
       "    <tr>\n",
       "      <th>0</th>\n",
       "      <td>Completed</td>\n",
       "      <td>37945</td>\n",
       "    </tr>\n",
       "    <tr>\n",
       "      <th>1</th>\n",
       "      <td>Extended</td>\n",
       "      <td>773</td>\n",
       "    </tr>\n",
       "    <tr>\n",
       "      <th>2</th>\n",
       "      <td>No-Show</td>\n",
       "      <td>2985</td>\n",
       "    </tr>\n",
       "    <tr>\n",
       "      <th>3</th>\n",
       "      <td>Reduced</td>\n",
       "      <td>371</td>\n",
       "    </tr>\n",
       "  </tbody>\n",
       "</table>\n",
       "</div>"
      ],
      "text/plain": [
       "  reservation_status  Total\n",
       "0          Completed  37945\n",
       "1           Extended    773\n",
       "2            No-Show   2985\n",
       "3            Reduced    371"
      ]
     },
     "execution_count": 24,
     "metadata": {},
     "output_type": "execute_result"
    }
   ],
   "source": [
    "df[df[\"advanced_booking\"]==\"Yes\"].groupby(\"reservation_status\").size().reset_index().rename(columns={0:\"Total\"})"
   ]
  },
  {
   "cell_type": "code",
   "execution_count": 25,
   "id": "c5d90df4",
   "metadata": {},
   "outputs": [],
   "source": [
    "df1=df[df[\"advanced_booking\"]==\"Yes\"].groupby(\"reservation_status\").size().reset_index().rename(columns={0:\"Total\"})"
   ]
  },
  {
   "cell_type": "code",
   "execution_count": 26,
   "id": "9a6cf0c7",
   "metadata": {},
   "outputs": [
    {
     "data": {
      "text/plain": [
       "<Axes: xlabel='reservation_status', ylabel='Total'>"
      ]
     },
     "execution_count": 26,
     "metadata": {},
     "output_type": "execute_result"
    },
    {
     "data": {
      "image/png": "[encoded data removed]",
      "text/plain": [
       "<Figure size 640x480 with 1 Axes>"
      ]
     },
     "metadata": {},
     "output_type": "display_data"
    }
   ],
   "source": [
    "sns.barplot(x=\"reservation_status\",y=\"Total\",data=df1)"
   ]
  },
  {
   "cell_type": "code",
   "execution_count": 27,
   "id": "db6eb17d",
   "metadata": {},
   "outputs": [
    {
     "data": {
      "text/html": [
       "<div>\n",
       "<style scoped>\n",
       "    .dataframe tbody tr th:only-of-type {\n",
       "        vertical-align: middle;\n",
       "    }\n",
       "\n",
       "    .dataframe tbody tr th {\n",
       "        vertical-align: top;\n",
       "    }\n",
       "\n",
       "    .dataframe thead th {\n",
       "        text-align: right;\n",
       "    }\n",
       "</style>\n",
       "<table border=\"1\" class=\"dataframe\">\n",
       "  <thead>\n",
       "    <tr style=\"text-align: right;\">\n",
       "      <th></th>\n",
       "      <th>advanced_booking</th>\n",
       "      <th>reservation_status</th>\n",
       "      <th>Total</th>\n",
       "    </tr>\n",
       "  </thead>\n",
       "  <tbody>\n",
       "    <tr>\n",
       "      <th>0</th>\n",
       "      <td>No</td>\n",
       "      <td>Completed</td>\n",
       "      <td>7090</td>\n",
       "    </tr>\n",
       "    <tr>\n",
       "      <th>1</th>\n",
       "      <td>No</td>\n",
       "      <td>Extended</td>\n",
       "      <td>180</td>\n",
       "    </tr>\n",
       "    <tr>\n",
       "      <th>2</th>\n",
       "      <td>No</td>\n",
       "      <td>No-Show</td>\n",
       "      <td>565</td>\n",
       "    </tr>\n",
       "    <tr>\n",
       "      <th>3</th>\n",
       "      <td>No</td>\n",
       "      <td>Reduced</td>\n",
       "      <td>91</td>\n",
       "    </tr>\n",
       "    <tr>\n",
       "      <th>4</th>\n",
       "      <td>Yes</td>\n",
       "      <td>Completed</td>\n",
       "      <td>37945</td>\n",
       "    </tr>\n",
       "    <tr>\n",
       "      <th>5</th>\n",
       "      <td>Yes</td>\n",
       "      <td>Extended</td>\n",
       "      <td>773</td>\n",
       "    </tr>\n",
       "    <tr>\n",
       "      <th>6</th>\n",
       "      <td>Yes</td>\n",
       "      <td>No-Show</td>\n",
       "      <td>2985</td>\n",
       "    </tr>\n",
       "    <tr>\n",
       "      <th>7</th>\n",
       "      <td>Yes</td>\n",
       "      <td>Reduced</td>\n",
       "      <td>371</td>\n",
       "    </tr>\n",
       "  </tbody>\n",
       "</table>\n",
       "</div>"
      ],
      "text/plain": [
       "  advanced_booking reservation_status  Total\n",
       "0               No          Completed   7090\n",
       "1               No           Extended    180\n",
       "2               No            No-Show    565\n",
       "3               No            Reduced     91\n",
       "4              Yes          Completed  37945\n",
       "5              Yes           Extended    773\n",
       "6              Yes            No-Show   2985\n",
       "7              Yes            Reduced    371"
      ]
     },
     "execution_count": 27,
     "metadata": {},
     "output_type": "execute_result"
    }
   ],
   "source": [
    "df[[\"advanced_booking\",\"reservation_status\"]].groupby([\"advanced_booking\",\"reservation_status\"]).size().reset_index().rename(columns={0:\"Total\"})"
   ]
  },
  {
   "cell_type": "code",
   "execution_count": 28,
   "id": "ed620e66",
   "metadata": {},
   "outputs": [
    {
     "data": {
      "text/plain": [
       "advanced_booking\n",
       "Yes    147.170475\n",
       "Name: Avg Room Rate, dtype: float64"
      ]
     },
     "execution_count": 28,
     "metadata": {},
     "output_type": "execute_result"
    }
   ],
   "source": [
    "df[df[\"advanced_booking\"]==\"Yes\"].groupby(\"advanced_booking\")[\"Avg Room Rate\"].mean() "
   ]
  },
  {
   "cell_type": "code",
   "execution_count": 29,
   "id": "1a9648df",
   "metadata": {},
   "outputs": [
    {
     "data": {
      "text/plain": [
       "advanced_booking\n",
       "No    147.023298\n",
       "Name: Avg Room Rate, dtype: float64"
      ]
     },
     "execution_count": 29,
     "metadata": {},
     "output_type": "execute_result"
    }
   ],
   "source": [
    "df[df[\"advanced_booking\"]==\"No\"].groupby(\"advanced_booking\")[\"Avg Room Rate\"].mean() "
   ]
  },
  {
   "cell_type": "markdown",
   "id": "5754f96a",
   "metadata": {},
   "source": [
    "Observation:There is slight difference in advance booking rate & regular booking rate"
   ]
  },
  {
   "cell_type": "markdown",
   "id": "b2a3da6b",
   "metadata": {},
   "source": [
    "# Special Requests Impact"
   ]
  },
  {
   "cell_type": "code",
   "execution_count": 30,
   "id": "a150902d",
   "metadata": {},
   "outputs": [
    {
     "data": {
      "text/html": [
       "<div>\n",
       "<style scoped>\n",
       "    .dataframe tbody tr th:only-of-type {\n",
       "        vertical-align: middle;\n",
       "    }\n",
       "\n",
       "    .dataframe tbody tr th {\n",
       "        vertical-align: top;\n",
       "    }\n",
       "\n",
       "    .dataframe thead th {\n",
       "        text-align: right;\n",
       "    }\n",
       "</style>\n",
       "<table border=\"1\" class=\"dataframe\">\n",
       "  <thead>\n",
       "    <tr style=\"text-align: right;\">\n",
       "      <th></th>\n",
       "      <th>reservation_status</th>\n",
       "      <th>Total</th>\n",
       "    </tr>\n",
       "  </thead>\n",
       "  <tbody>\n",
       "    <tr>\n",
       "      <th>0</th>\n",
       "      <td>Completed</td>\n",
       "      <td>22424</td>\n",
       "    </tr>\n",
       "    <tr>\n",
       "      <th>1</th>\n",
       "      <td>Extended</td>\n",
       "      <td>515</td>\n",
       "    </tr>\n",
       "    <tr>\n",
       "      <th>2</th>\n",
       "      <td>No-Show</td>\n",
       "      <td>1768</td>\n",
       "    </tr>\n",
       "    <tr>\n",
       "      <th>3</th>\n",
       "      <td>Reduced</td>\n",
       "      <td>233</td>\n",
       "    </tr>\n",
       "  </tbody>\n",
       "</table>\n",
       "</div>"
      ],
      "text/plain": [
       "  reservation_status  Total\n",
       "0          Completed  22424\n",
       "1           Extended    515\n",
       "2            No-Show   1768\n",
       "3            Reduced    233"
      ]
     },
     "execution_count": 30,
     "metadata": {},
     "output_type": "execute_result"
    }
   ],
   "source": [
    "df[df[\"special_requests_flag\"]==\"Yes\"].groupby(\"reservation_status\").size().reset_index().rename(columns={0:\"Total\"})"
   ]
  },
  {
   "cell_type": "code",
   "execution_count": 31,
   "id": "232b4175",
   "metadata": {},
   "outputs": [
    {
     "data": {
      "text/html": [
       "<div>\n",
       "<style scoped>\n",
       "    .dataframe tbody tr th:only-of-type {\n",
       "        vertical-align: middle;\n",
       "    }\n",
       "\n",
       "    .dataframe tbody tr th {\n",
       "        vertical-align: top;\n",
       "    }\n",
       "\n",
       "    .dataframe thead th {\n",
       "        text-align: right;\n",
       "    }\n",
       "</style>\n",
       "<table border=\"1\" class=\"dataframe\">\n",
       "  <thead>\n",
       "    <tr style=\"text-align: right;\">\n",
       "      <th></th>\n",
       "      <th>special_requests_flag</th>\n",
       "      <th>reservation_status</th>\n",
       "      <th>Total</th>\n",
       "    </tr>\n",
       "  </thead>\n",
       "  <tbody>\n",
       "    <tr>\n",
       "      <th>0</th>\n",
       "      <td>No</td>\n",
       "      <td>Completed</td>\n",
       "      <td>22611</td>\n",
       "    </tr>\n",
       "    <tr>\n",
       "      <th>1</th>\n",
       "      <td>No</td>\n",
       "      <td>Extended</td>\n",
       "      <td>438</td>\n",
       "    </tr>\n",
       "    <tr>\n",
       "      <th>2</th>\n",
       "      <td>No</td>\n",
       "      <td>No-Show</td>\n",
       "      <td>1782</td>\n",
       "    </tr>\n",
       "    <tr>\n",
       "      <th>3</th>\n",
       "      <td>No</td>\n",
       "      <td>Reduced</td>\n",
       "      <td>229</td>\n",
       "    </tr>\n",
       "    <tr>\n",
       "      <th>4</th>\n",
       "      <td>Yes</td>\n",
       "      <td>Completed</td>\n",
       "      <td>22424</td>\n",
       "    </tr>\n",
       "    <tr>\n",
       "      <th>5</th>\n",
       "      <td>Yes</td>\n",
       "      <td>Extended</td>\n",
       "      <td>515</td>\n",
       "    </tr>\n",
       "    <tr>\n",
       "      <th>6</th>\n",
       "      <td>Yes</td>\n",
       "      <td>No-Show</td>\n",
       "      <td>1768</td>\n",
       "    </tr>\n",
       "    <tr>\n",
       "      <th>7</th>\n",
       "      <td>Yes</td>\n",
       "      <td>Reduced</td>\n",
       "      <td>233</td>\n",
       "    </tr>\n",
       "  </tbody>\n",
       "</table>\n",
       "</div>"
      ],
      "text/plain": [
       "  special_requests_flag reservation_status  Total\n",
       "0                    No          Completed  22611\n",
       "1                    No           Extended    438\n",
       "2                    No            No-Show   1782\n",
       "3                    No            Reduced    229\n",
       "4                   Yes          Completed  22424\n",
       "5                   Yes           Extended    515\n",
       "6                   Yes            No-Show   1768\n",
       "7                   Yes            Reduced    233"
      ]
     },
     "execution_count": 31,
     "metadata": {},
     "output_type": "execute_result"
    }
   ],
   "source": [
    "df[[\"special_requests_flag\",\"reservation_status\"]].groupby([\"special_requests_flag\",\"reservation_status\"]).size().reset_index().rename(columns={0:\"Total\"})"
   ]
  },
  {
   "cell_type": "code",
   "execution_count": 32,
   "id": "62b02bf4",
   "metadata": {},
   "outputs": [
    {
     "data": {
      "text/plain": [
       "special_requests_flag\n",
       "Yes    147.056233\n",
       "Name: Avg Room Rate, dtype: float64"
      ]
     },
     "execution_count": 32,
     "metadata": {},
     "output_type": "execute_result"
    }
   ],
   "source": [
    "df[df[\"special_requests_flag\"]==\"Yes\"].groupby(\"special_requests_flag\")[\"Avg Room Rate\"].mean()"
   ]
  },
  {
   "cell_type": "code",
   "execution_count": 33,
   "id": "fd9da5ff",
   "metadata": {},
   "outputs": [
    {
     "data": {
      "text/plain": [
       "special_requests_flag\n",
       "No    147.237621\n",
       "Name: Avg Room Rate, dtype: float64"
      ]
     },
     "execution_count": 33,
     "metadata": {},
     "output_type": "execute_result"
    }
   ],
   "source": [
    "df[df[\"special_requests_flag\"]==\"No\"].groupby(\"special_requests_flag\")[\"Avg Room Rate\"].mean()"
   ]
  },
  {
   "cell_type": "markdown",
   "id": "bb05350b",
   "metadata": {},
   "source": [
    "Observation:There is no such difference in Avg Room Rate with and without Special Request "
   ]
  },
  {
   "cell_type": "code",
   "execution_count": null,
   "id": "881594c0",
   "metadata": {},
   "outputs": [],
   "source": []
  }
 ],
 "metadata": {
  "kernelspec": {
   "display_name": "Python 3 (ipykernel)",
   "language": "python",
   "name": "python3"
  },
  "language_info": {
   "codemirror_mode": {
    "name": "ipython",
    "version": 3
   },
   "file_extension": ".py",
   "mimetype": "text/x-python",
   "name": "python",
   "nbconvert_exporter": "python",
   "pygments_lexer": "ipython3",
   "version": "3.11.5"
  }
 },
 "nbformat": 4,
 "nbformat_minor": 5
}
